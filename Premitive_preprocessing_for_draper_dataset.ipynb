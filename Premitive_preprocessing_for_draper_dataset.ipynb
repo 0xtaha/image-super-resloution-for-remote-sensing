{
  "nbformat": 4,
  "nbformat_minor": 0,
  "metadata": {
    "colab": {
      "name": "Premitive_preprocessing for draper dataset.ipynb",
      "provenance": [],
      "authorship_tag": "ABX9TyN9xtLscd2rTRPu4d+BaICK",
      "include_colab_link": true
    },
    "kernelspec": {
      "name": "python3",
      "display_name": "Python 3"
    },
    "language_info": {
      "name": "python"
    }
  },
  "cells": [
    {
      "cell_type": "markdown",
      "metadata": {
        "id": "view-in-github",
        "colab_type": "text"
      },
      "source": [
        "<a href=\"https://colab.research.google.com/github/0xtaha/image-super-resloution-for-remote-sensing/blob/main/Premitive_preprocessing_for_draper_dataset.ipynb\" target=\"_parent\"><img src=\"https://colab.research.google.com/assets/colab-badge.svg\" alt=\"Open In Colab\"/></a>"
      ]
    },
    {
      "cell_type": "code",
      "metadata": {
        "colab": {
          "base_uri": "https://localhost:8080/"
        },
        "id": "YSHOJ1EjH_Mn",
        "outputId": "c1bb6bab-b3e7-4253-c5ea-55862fd2e1b0"
      },
      "source": [
        "from google.colab import drive\n",
        "drive.mount('/content/gdrive')"
      ],
      "execution_count": null,
      "outputs": [
        {
          "output_type": "stream",
          "text": [
            "Mounted at /content/gdrive\n"
          ],
          "name": "stdout"
        }
      ]
    },
    {
      "cell_type": "code",
      "metadata": {
        "colab": {
          "base_uri": "https://localhost:8080/"
        },
        "id": "oygJVTHyLTQQ",
        "outputId": "25e8a0a8-21a6-4bd4-b71f-843ff2729bf6"
      },
      "source": [
        "!pip uninstall -y kaggle\n",
        "!pip install --upgrade pip\n",
        "!pip install kaggle==1.5.6"
      ],
      "execution_count": null,
      "outputs": [
        {
          "output_type": "stream",
          "text": [
            "Uninstalling kaggle-1.5.12:\n",
            "  Successfully uninstalled kaggle-1.5.12\n",
            "Collecting pip\n",
            "\u001b[?25l  Downloading https://files.pythonhosted.org/packages/cd/6f/43037c7bcc8bd8ba7c9074256b1a11596daa15555808ec748048c1507f08/pip-21.1.1-py3-none-any.whl (1.5MB)\n",
            "\u001b[K     |████████████████████████████████| 1.6MB 7.4MB/s \n",
            "\u001b[?25hInstalling collected packages: pip\n",
            "  Found existing installation: pip 19.3.1\n",
            "    Uninstalling pip-19.3.1:\n",
            "      Successfully uninstalled pip-19.3.1\n",
            "Successfully installed pip-21.1.1\n",
            "Collecting kaggle==1.5.6\n",
            "  Downloading kaggle-1.5.6.tar.gz (58 kB)\n",
            "\u001b[K     |████████████████████████████████| 58 kB 3.0 MB/s \n",
            "\u001b[?25hRequirement already satisfied: urllib3<1.25,>=1.21.1 in /usr/local/lib/python3.7/dist-packages (from kaggle==1.5.6) (1.24.3)\n",
            "Requirement already satisfied: six>=1.10 in /usr/local/lib/python3.7/dist-packages (from kaggle==1.5.6) (1.15.0)\n",
            "Requirement already satisfied: certifi in /usr/local/lib/python3.7/dist-packages (from kaggle==1.5.6) (2020.12.5)\n",
            "Requirement already satisfied: python-dateutil in /usr/local/lib/python3.7/dist-packages (from kaggle==1.5.6) (2.8.1)\n",
            "Requirement already satisfied: requests in /usr/local/lib/python3.7/dist-packages (from kaggle==1.5.6) (2.23.0)\n",
            "Requirement already satisfied: tqdm in /usr/local/lib/python3.7/dist-packages (from kaggle==1.5.6) (4.41.1)\n",
            "Requirement already satisfied: python-slugify in /usr/local/lib/python3.7/dist-packages (from kaggle==1.5.6) (4.0.1)\n",
            "Requirement already satisfied: text-unidecode>=1.3 in /usr/local/lib/python3.7/dist-packages (from python-slugify->kaggle==1.5.6) (1.3)\n",
            "Requirement already satisfied: chardet<4,>=3.0.2 in /usr/local/lib/python3.7/dist-packages (from requests->kaggle==1.5.6) (3.0.4)\n",
            "Requirement already satisfied: idna<3,>=2.5 in /usr/local/lib/python3.7/dist-packages (from requests->kaggle==1.5.6) (2.10)\n",
            "Building wheels for collected packages: kaggle\n",
            "  Building wheel for kaggle (setup.py) ... \u001b[?25l\u001b[?25hdone\n",
            "  Created wheel for kaggle: filename=kaggle-1.5.6-py3-none-any.whl size=72859 sha256=d4e84605837cf647bfb9e456eee66cd61cdecf979c6389d8c180a9e1b214d885\n",
            "  Stored in directory: /root/.cache/pip/wheels/aa/e7/e7/eb3c3d514c33294d77ddd5a856bdd58dc9c1fabbed59a02a2b\n",
            "Successfully built kaggle\n",
            "Installing collected packages: kaggle\n",
            "Successfully installed kaggle-1.5.6\n",
            "\u001b[33mWARNING: Running pip as root will break packages and permissions. You should install packages reliably by using venv: https://pip.pypa.io/warnings/venv\u001b[0m\n"
          ],
          "name": "stdout"
        }
      ]
    },
    {
      "cell_type": "code",
      "metadata": {
        "id": "Hq4BMY2QLbpK"
      },
      "source": [
        "from google.colab import files\n",
        "files.upload()"
      ],
      "execution_count": null,
      "outputs": []
    },
    {
      "cell_type": "code",
      "metadata": {
        "id": "THUfFd_MiHk1"
      },
      "source": [
        "!mkdir /content/gdrive/MyDrive/Datasets/draper-satellite-image-chronology/.kaggle/ "
      ],
      "execution_count": null,
      "outputs": []
    },
    {
      "cell_type": "code",
      "metadata": {
        "id": "7RWZrf3cLpMb"
      },
      "source": [
        "! cp kaggle.json /content/gdrive/MyDrive/Datasets/draper-satellite-image-chronology/.kaggle/"
      ],
      "execution_count": null,
      "outputs": []
    },
    {
      "cell_type": "code",
      "metadata": {
        "id": "cS3ob4nNLsOV"
      },
      "source": [
        "! chmod 600 /content/gdrive/MyDrive/Datasets/draper-satellite-image-chronology/.kaggle/kaggle.json"
      ],
      "execution_count": null,
      "outputs": []
    },
    {
      "cell_type": "code",
      "metadata": {
        "id": "IfrjwNIMi1GM"
      },
      "source": [
        "import os\n",
        "os.environ['KAGGLE_CONFIG_DIR'] = \"/content/gdrive/MyDrive/Datasets/draper-satellite-image-chronology/.kaggle/\" # put path for wherever you put it"
      ],
      "execution_count": null,
      "outputs": []
    },
    {
      "cell_type": "code",
      "metadata": {
        "colab": {
          "base_uri": "https://localhost:8080/"
        },
        "id": "Bj2s3-ENQZLc",
        "outputId": "c9b33e72-38ea-4e91-9b2b-6b74dd8d5c28"
      },
      "source": [
        "!kaggle competitions download -c draper-satellite-image-chronology -p /content/gdrive/MyDrive/Datasets/draper-satellite-image-chronology"
      ],
      "execution_count": null,
      "outputs": [
        {
          "output_type": "stream",
          "text": [
            "Downloading draper-satellite-image-chronology.zip to /content/gdrive/MyDrive/Datasets/draper-satellite-image-chronology\n",
            "100% 32.9G/33.0G [09:33<00:00, 79.9MB/s]\n",
            "100% 33.0G/33.0G [09:34<00:00, 61.6MB/s]\n"
          ],
          "name": "stdout"
        }
      ]
    },
    {
      "cell_type": "code",
      "metadata": {
        "id": "xnLFrV_qf16f"
      },
      "source": [
        "!unzip /content/gdrive/MyDrive/Datasets/draper-satellite-image-chronology/draper-satellite-image-chronology.zip -d /content/gdrive/MyDrive/Datasets/draper-satellite-image-chronology"
      ],
      "execution_count": null,
      "outputs": []
    },
    {
      "cell_type": "code",
      "metadata": {
        "id": "oq7iYhOlnTC2"
      },
      "source": [
        "os.remove('/content/gdrive/MyDrive/Datasets/draper-satellite-image-chronology/test_sm')\n",
        "os.remove('/content/gdrive/MyDrive/Datasets/draper-satellite-image-chronology/train_sm')\n",
        "os.remove('/content/gdrive/MyDrive/Datasets/draper-satellite-image-chronology/draper-satellite-image-chronology.zip')"
      ],
      "execution_count": null,
      "outputs": []
    },
    {
      "cell_type": "code",
      "metadata": {
        "id": "lNbwyR7T6a0O"
      },
      "source": [
        "!mkdir /content/gdrive/MyDrive/Datasets/draper-satellite-image-chronology/Orginal\n",
        "\n",
        "!cp /content/gdrive/MyDrive/Datasets/draper-satellite-image-chronology/test/. /content/gdrive/MyDrive/Datasets/draper-satellite-image-chronology/Orginal\n",
        "!rm -rf /content/gdrive/MyDrive/Datasets/draper-satellite-image-chronology/test/\n",
        "\n",
        "!cp /content/gdrive/MyDrive/Datasets/draper-satellite-image-chronology/train/. /content/gdrive/MyDrive/Datasets/draper-satellite-image-chronology/Orginal\n",
        "!rm -rf /content/gdrive/MyDrive/Datasets/draper-satellite-image-chronology/train/"
      ],
      "execution_count": null,
      "outputs": []
    },
    {
      "cell_type": "code",
      "metadata": {
        "id": "CmdqJTOh7ONk"
      },
      "source": [
        "!mkdir /content/gdrive/MyDrive/Datasets/draper-satellite-image-chronology/splitted\n",
        "!mkdir /content/gdrive/MyDrive/Datasets/draper-satellite-image-chronology/splitted/train\n",
        "!mkdir /content/gdrive/MyDrive/Datasets/draper-satellite-image-chronology/splitted/test"
      ],
      "execution_count": null,
      "outputs": []
    },
    {
      "cell_type": "code",
      "metadata": {
        "id": "JFn3_Kk2I_f6"
      },
      "source": [
        "import glob\n",
        "import cv2\n",
        "from tqdm.notebook import tqdm, trange\n",
        "import matplotlib.pyplot as plt"
      ],
      "execution_count": null,
      "outputs": []
    },
    {
      "cell_type": "markdown",
      "metadata": {
        "id": "cJqD957jtM4U"
      },
      "source": [
        "## Downloading The repo files"
      ]
    },
    {
      "cell_type": "code",
      "metadata": {
        "colab": {
          "base_uri": "https://localhost:8080/"
        },
        "id": "UqwOLtuVtVTE",
        "outputId": "341d797d-860a-4b2e-ae36-a6be50883891"
      },
      "source": [
        "!git clone https://github.com/0xtaha/image-super-resloution-for-remote-sensing"
      ],
      "execution_count": null,
      "outputs": [
        {
          "output_type": "stream",
          "text": [
            "Cloning into 'image-super-resloution-for-remote-sensing'...\n",
            "remote: Enumerating objects: 182, done.\u001b[K\n",
            "remote: Counting objects: 100% (182/182), done.\u001b[K\n",
            "remote: Compressing objects: 100% (121/121), done.\u001b[K\n",
            "remote: Total 182 (delta 84), reused 119 (delta 43), pack-reused 0\u001b[K\n",
            "Receiving objects: 100% (182/182), 3.50 MiB | 13.78 MiB/s, done.\n",
            "Resolving deltas: 100% (84/84), done.\n"
          ],
          "name": "stdout"
        }
      ]
    },
    {
      "cell_type": "code",
      "metadata": {
        "id": "3-8kETgdxUAD"
      },
      "source": [
        "!cp -a /content/image-super-resloution-for-remote-sensing/. /content/\n",
        "!rm -rf /content/image-super-resloution-for-remote-sensing/"
      ],
      "execution_count": null,
      "outputs": []
    },
    {
      "cell_type": "code",
      "metadata": {
        "id": "uvk9NJy_Hfwb"
      },
      "source": [
        "from Preprocessing import start_points , image_split"
      ],
      "execution_count": null,
      "outputs": []
    },
    {
      "cell_type": "code",
      "metadata": {
        "colab": {
          "base_uri": "https://localhost:8080/"
        },
        "id": "eIod1W_tItda",
        "outputId": "4c7c3a89-c44a-49ae-dcde-87eab3b9ff96"
      },
      "source": [
        "unziped_train_images_path = '/content/gdrive/MyDrive/Datasets/draper-satellite-image-chronology/Orginal/train/*.tif'\n",
        "orginal_train_iamges = glob.glob(unziped_train_images_path) #returns path of images\n",
        "print(len(orginal_train_iamges)) #contains 13243 images"
      ],
      "execution_count": null,
      "outputs": [
        {
          "output_type": "stream",
          "text": [
            "350\n"
          ],
          "name": "stdout"
        }
      ]
    },
    {
      "cell_type": "code",
      "metadata": {
        "id": "7yAyK3zbmWEw",
        "colab": {
          "base_uri": "https://localhost:8080/"
        },
        "outputId": "0c3a2ae3-6320-4825-a912-89fbd7a670b3"
      },
      "source": [
        "unziped_test_images_path = '/content/gdrive/MyDrive/Datasets/draper-satellite-image-chronology/Orginal/test/*.tif'\n",
        "orginal_test_iamges = glob.glob(unziped_test_images_path) #returns path of images\n",
        "print(len(orginal_test_iamges)) #contains 13243 images"
      ],
      "execution_count": null,
      "outputs": [
        {
          "output_type": "stream",
          "text": [
            "1370\n"
          ],
          "name": "stdout"
        }
      ]
    },
    {
      "cell_type": "code",
      "metadata": {
        "id": "Y-lf2cIPkKkc"
      },
      "source": [
        "progress = tqdm(total= len(orginal_train_iamges), position=0)\n",
        "count = 0\n",
        "for image_path in orginal_train_iamges :\n",
        "  count = image_split(image_path, '/content/gdrive/MyDrive/Datasets/draper-satellite-image-chronology/splitted/test/' ,\n",
        "              split_width = 512 , split_height = 512 , overlap_x=0, overlap_y=0 , frmt='tiff', counter = count)\n",
        "  progress.update(1)"
      ],
      "execution_count": null,
      "outputs": []
    },
    {
      "cell_type": "code",
      "metadata": {
        "id": "QgX8ffC7D6eN"
      },
      "source": [
        "os.remove('/content/gdrive/MyDrive/Datasets/draper-satellite-image-chronology/Orginal/test/')"
      ],
      "execution_count": null,
      "outputs": []
    },
    {
      "cell_type": "code",
      "metadata": {
        "id": "BHsFdC3uurDc"
      },
      "source": [
        "progress = tqdm(total= len(orginal_test_iamges), position=0)\n",
        "count = 0 \n",
        "for image_path in orginal_test_iamges :\n",
        "  count = image_split(image_path, '/content/gdrive/MyDrive/Datasets/draper-satellite-image-chronology/splitted/train/' ,\n",
        "              split_width = 512 , split_height = 512 , overlap_x=0, overlap_y=0 , frmt='tiff' , counter = count)\n",
        "  progress.update(1)"
      ],
      "execution_count": null,
      "outputs": []
    },
    {
      "cell_type": "code",
      "metadata": {
        "id": "Wh7kE_2E_3y2"
      },
      "source": [
        "os.remove('/content/gdrive/MyDrive/Datasets/draper-satellite-image-chronology/Orginal/train')"
      ],
      "execution_count": null,
      "outputs": []
    }
  ]
}